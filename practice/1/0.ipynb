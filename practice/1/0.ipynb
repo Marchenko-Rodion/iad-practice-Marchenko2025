{
 "cells": [
  {
   "cell_type": "code",
   "execution_count": null,
   "id": "c855fdf1-b8ff-41bc-90d3-669effa6fcd0",
   "metadata": {
    "scrolled": true
   },
   "outputs": [],
   "source": "0+1"
  }
 ],
 "metadata": {
  "kernelspec": {
   "display_name": "Python 3 (ipykernel)",
   "language": "python",
   "name": "python3"
  },
  "language_info": {
   "codemirror_mode": {
    "name": "ipython",
    "version": 3
   },
   "file_extension": ".py",
   "mimetype": "text/x-python",
   "name": "python",
   "nbconvert_exporter": "python",
   "pygments_lexer": "ipython3",
   "version": "3.13.7"
  }
 },
 "nbformat": 4,
 "nbformat_minor": 5
}
